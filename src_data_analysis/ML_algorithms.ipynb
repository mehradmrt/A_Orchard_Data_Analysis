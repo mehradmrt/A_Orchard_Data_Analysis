{
 "cells": [
  {
   "cell_type": "code",
   "execution_count": 147,
   "metadata": {},
   "outputs": [
    {
     "name": "stdout",
     "output_type": "stream",
     "text": [
      "<class 'pandas.core.frame.DataFrame'>\n",
      "Int64Index: 111 entries, 0 to 118\n",
      "Data columns (total 12 columns):\n",
      " #   Column        Non-Null Count  Dtype  \n",
      "---  ------        --------------  -----  \n",
      " 0   tree_idx      111 non-null    int64  \n",
      " 1   test_number   111 non-null    object \n",
      " 2   leaf_temp     111 non-null    float64\n",
      " 3   Ta            111 non-null    float64\n",
      " 4   cwsi          111 non-null    float64\n",
      " 5   NDVI median   111 non-null    float64\n",
      " 6   GNDVI median  111 non-null    float64\n",
      " 7   OSAVI median  111 non-null    float64\n",
      " 8   LCI median    111 non-null    float64\n",
      " 9   NDRE median   111 non-null    float64\n",
      " 10  SWP           111 non-null    float64\n",
      " 11  SWPc          111 non-null    object \n",
      "dtypes: float64(9), int64(1), object(2)\n",
      "memory usage: 11.3+ KB\n"
     ]
    },
    {
     "data": {
      "text/html": [
       "<div>\n",
       "<style scoped>\n",
       "    .dataframe tbody tr th:only-of-type {\n",
       "        vertical-align: middle;\n",
       "    }\n",
       "\n",
       "    .dataframe tbody tr th {\n",
       "        vertical-align: top;\n",
       "    }\n",
       "\n",
       "    .dataframe thead th {\n",
       "        text-align: right;\n",
       "    }\n",
       "</style>\n",
       "<table border=\"1\" class=\"dataframe\">\n",
       "  <thead>\n",
       "    <tr style=\"text-align: right;\">\n",
       "      <th></th>\n",
       "      <th>leaf_temp</th>\n",
       "      <th>Ta</th>\n",
       "      <th>cwsi</th>\n",
       "      <th>NDVI median</th>\n",
       "      <th>GNDVI median</th>\n",
       "      <th>OSAVI median</th>\n",
       "      <th>LCI median</th>\n",
       "      <th>NDRE median</th>\n",
       "      <th>SWP</th>\n",
       "    </tr>\n",
       "  </thead>\n",
       "  <tbody>\n",
       "    <tr>\n",
       "      <th>0</th>\n",
       "      <td>31.000000</td>\n",
       "      <td>35.41</td>\n",
       "      <td>0.225049</td>\n",
       "      <td>0.680596</td>\n",
       "      <td>0.564822</td>\n",
       "      <td>0.343672</td>\n",
       "      <td>0.238299</td>\n",
       "      <td>0.165678</td>\n",
       "      <td>21.33</td>\n",
       "    </tr>\n",
       "    <tr>\n",
       "      <th>1</th>\n",
       "      <td>31.500000</td>\n",
       "      <td>35.41</td>\n",
       "      <td>0.254403</td>\n",
       "      <td>0.709513</td>\n",
       "      <td>0.589902</td>\n",
       "      <td>0.347813</td>\n",
       "      <td>0.241712</td>\n",
       "      <td>0.165408</td>\n",
       "      <td>16.33</td>\n",
       "    </tr>\n",
       "    <tr>\n",
       "      <th>2</th>\n",
       "      <td>30.833333</td>\n",
       "      <td>35.41</td>\n",
       "      <td>0.215264</td>\n",
       "      <td>0.696943</td>\n",
       "      <td>0.578733</td>\n",
       "      <td>0.352290</td>\n",
       "      <td>0.224013</td>\n",
       "      <td>0.152534</td>\n",
       "      <td>24.00</td>\n",
       "    </tr>\n",
       "    <tr>\n",
       "      <th>3</th>\n",
       "      <td>30.666667</td>\n",
       "      <td>35.41</td>\n",
       "      <td>0.205479</td>\n",
       "      <td>0.713962</td>\n",
       "      <td>0.580458</td>\n",
       "      <td>0.358707</td>\n",
       "      <td>0.222680</td>\n",
       "      <td>0.149966</td>\n",
       "      <td>17.17</td>\n",
       "    </tr>\n",
       "    <tr>\n",
       "      <th>4</th>\n",
       "      <td>30.000000</td>\n",
       "      <td>35.41</td>\n",
       "      <td>0.166341</td>\n",
       "      <td>0.692211</td>\n",
       "      <td>0.576588</td>\n",
       "      <td>0.331614</td>\n",
       "      <td>0.233609</td>\n",
       "      <td>0.160824</td>\n",
       "      <td>18.50</td>\n",
       "    </tr>\n",
       "    <tr>\n",
       "      <th>...</th>\n",
       "      <td>...</td>\n",
       "      <td>...</td>\n",
       "      <td>...</td>\n",
       "      <td>...</td>\n",
       "      <td>...</td>\n",
       "      <td>...</td>\n",
       "      <td>...</td>\n",
       "      <td>...</td>\n",
       "      <td>...</td>\n",
       "    </tr>\n",
       "    <tr>\n",
       "      <th>114</th>\n",
       "      <td>31.066667</td>\n",
       "      <td>36.07</td>\n",
       "      <td>0.228963</td>\n",
       "      <td>0.671807</td>\n",
       "      <td>0.567401</td>\n",
       "      <td>0.286633</td>\n",
       "      <td>0.226394</td>\n",
       "      <td>0.156473</td>\n",
       "      <td>19.83</td>\n",
       "    </tr>\n",
       "    <tr>\n",
       "      <th>115</th>\n",
       "      <td>32.700000</td>\n",
       "      <td>36.07</td>\n",
       "      <td>0.324853</td>\n",
       "      <td>0.678749</td>\n",
       "      <td>0.569933</td>\n",
       "      <td>0.291628</td>\n",
       "      <td>0.220869</td>\n",
       "      <td>0.152646</td>\n",
       "      <td>25.17</td>\n",
       "    </tr>\n",
       "    <tr>\n",
       "      <th>116</th>\n",
       "      <td>32.100000</td>\n",
       "      <td>36.07</td>\n",
       "      <td>0.289628</td>\n",
       "      <td>0.648854</td>\n",
       "      <td>0.533746</td>\n",
       "      <td>0.297958</td>\n",
       "      <td>0.182921</td>\n",
       "      <td>0.125482</td>\n",
       "      <td>19.50</td>\n",
       "    </tr>\n",
       "    <tr>\n",
       "      <th>117</th>\n",
       "      <td>33.733333</td>\n",
       "      <td>36.07</td>\n",
       "      <td>0.385519</td>\n",
       "      <td>0.575638</td>\n",
       "      <td>0.489463</td>\n",
       "      <td>0.223720</td>\n",
       "      <td>0.153978</td>\n",
       "      <td>0.109748</td>\n",
       "      <td>18.00</td>\n",
       "    </tr>\n",
       "    <tr>\n",
       "      <th>118</th>\n",
       "      <td>33.533333</td>\n",
       "      <td>36.07</td>\n",
       "      <td>0.373777</td>\n",
       "      <td>0.573958</td>\n",
       "      <td>0.486240</td>\n",
       "      <td>0.216944</td>\n",
       "      <td>0.151792</td>\n",
       "      <td>0.106829</td>\n",
       "      <td>19.00</td>\n",
       "    </tr>\n",
       "  </tbody>\n",
       "</table>\n",
       "<p>111 rows × 9 columns</p>\n",
       "</div>"
      ],
      "text/plain": [
       "     leaf_temp     Ta      cwsi  NDVI median  GNDVI median  OSAVI median  \\\n",
       "0    31.000000  35.41  0.225049     0.680596      0.564822      0.343672   \n",
       "1    31.500000  35.41  0.254403     0.709513      0.589902      0.347813   \n",
       "2    30.833333  35.41  0.215264     0.696943      0.578733      0.352290   \n",
       "3    30.666667  35.41  0.205479     0.713962      0.580458      0.358707   \n",
       "4    30.000000  35.41  0.166341     0.692211      0.576588      0.331614   \n",
       "..         ...    ...       ...          ...           ...           ...   \n",
       "114  31.066667  36.07  0.228963     0.671807      0.567401      0.286633   \n",
       "115  32.700000  36.07  0.324853     0.678749      0.569933      0.291628   \n",
       "116  32.100000  36.07  0.289628     0.648854      0.533746      0.297958   \n",
       "117  33.733333  36.07  0.385519     0.575638      0.489463      0.223720   \n",
       "118  33.533333  36.07  0.373777     0.573958      0.486240      0.216944   \n",
       "\n",
       "     LCI median  NDRE median    SWP  \n",
       "0      0.238299     0.165678  21.33  \n",
       "1      0.241712     0.165408  16.33  \n",
       "2      0.224013     0.152534  24.00  \n",
       "3      0.222680     0.149966  17.17  \n",
       "4      0.233609     0.160824  18.50  \n",
       "..          ...          ...    ...  \n",
       "114    0.226394     0.156473  19.83  \n",
       "115    0.220869     0.152646  25.17  \n",
       "116    0.182921     0.125482  19.50  \n",
       "117    0.153978     0.109748  18.00  \n",
       "118    0.151792     0.106829  19.00  \n",
       "\n",
       "[111 rows x 9 columns]"
      ]
     },
     "execution_count": 147,
     "metadata": {},
     "output_type": "execute_result"
    }
   ],
   "source": [
    "import pandas as pd\n",
    "import numpy as np\n",
    "import matplotlib.pyplot as plt\n",
    "import seaborn as sns\n",
    "from sklearn.ensemble import RandomForestClassifier\n",
    "from sklearn.svm import SVC\n",
    "from sklearn.naive_bayes import GaussianNB\n",
    "from sklearn import tree\n",
    "from sklearn.neighbors import KNeighborsClassifier\n",
    "from sklearn.neural_network import MLPClassifier\n",
    "from sklearn.metrics import confusion_matrix, classification_report, accuracy_score\n",
    "from sklearn.preprocessing import StandardScaler, LabelEncoder\n",
    "from sklearn.model_selection import train_test_split, cross_val_score, GridSearchCV\n",
    "\n",
    "main = pd.read_json('../results_cleaned/mdf_all.json')\n",
    "main = main.dropna(how='any',axis=0) \n",
    "main.info()\n",
    "mdf = main.iloc[:,2:-1]\n",
    "mdf\n",
    "# mdf.isnull().sum()"
   ]
  },
  {
   "cell_type": "code",
   "execution_count": 148,
   "metadata": {},
   "outputs": [
    {
     "name": "stdout",
     "output_type": "stream",
     "text": [
      "SWP             1.000000\n",
      "Ta              0.551078\n",
      "leaf_temp       0.430160\n",
      "cwsi            0.430160\n",
      "NDRE median     0.177583\n",
      "LCI median      0.149763\n",
      "GNDVI median    0.082618\n",
      "NDVI median     0.054667\n",
      "OSAVI median    0.011253\n",
      "Name: SWP, dtype: float64 \n",
      "\n"
     ]
    }
   ],
   "source": [
    "corrs = mdf.corr()\n",
    "print(corrs['SWP'].sort_values(ascending=False),'\\n')"
   ]
  },
  {
   "cell_type": "code",
   "execution_count": 149,
   "metadata": {},
   "outputs": [
    {
     "data": {
      "text/plain": [
       "<AxesSubplot:>"
      ]
     },
     "execution_count": 149,
     "metadata": {},
     "output_type": "execute_result"
    },
    {
     "data": {
      "image/png": "[encoded data removed]",
      "text/plain": [
       "<Figure size 500x500 with 2 Axes>"
      ]
     },
     "metadata": {},
     "output_type": "display_data"
    }
   ],
   "source": [
    "f , ax = plt.subplots(figsize=(5,5))\n",
    "\n",
    "sns.heatmap(abs(corrs),square=True,vmax=1)"
   ]
  },
  {
   "cell_type": "code",
   "execution_count": 150,
   "metadata": {},
   "outputs": [
    {
     "data": {
      "text/plain": [
       "<AxesSubplot:>"
      ]
     },
     "execution_count": 150,
     "metadata": {},
     "output_type": "execute_result"
    },
    {
     "data": {
      "image/png": "[encoded data removed]",
      "text/plain": [
       "<Figure size 500x500 with 2 Axes>"
      ]
     },
     "metadata": {},
     "output_type": "display_data"
    }
   ],
   "source": [
    "mdf = mdf.drop(['LCI median','NDVI median','GNDVI median', 'leaf_temp','OSAVI median'], axis=1)\n",
    "# mdf = mdf.drop(['leaf_temp'], axis=1)\n",
    "corrs = mdf.corr()\n",
    "f , ax = plt.subplots(figsize=(5,5))\n",
    "sns.heatmap(abs(corrs),square=True,vmax=1)"
   ]
  },
  {
   "cell_type": "code",
   "execution_count": 151,
   "metadata": {},
   "outputs": [
    {
     "data": {
      "text/plain": [
       "array(['WL-2', 'WL-1', 'WL-3'], dtype=object)"
      ]
     },
     "execution_count": 151,
     "metadata": {},
     "output_type": "execute_result"
    }
   ],
   "source": [
    "main['SWPc'].unique()"
   ]
  },
  {
   "cell_type": "code",
   "execution_count": 152,
   "metadata": {},
   "outputs": [
    {
     "data": {
      "text/plain": [
       "array(['WL-1', 'WL-2', 'WL-3'], dtype=object)"
      ]
     },
     "execution_count": 152,
     "metadata": {},
     "output_type": "execute_result"
    }
   ],
   "source": [
    "correct_label= np.array(['WL-1', 'WL-2', 'WL-3'], dtype=object)\n",
    "correct_label\n"
   ]
  },
  {
   "cell_type": "code",
   "execution_count": 153,
   "metadata": {},
   "outputs": [
    {
     "data": {
      "text/plain": [
       "0"
      ]
     },
     "execution_count": 153,
     "metadata": {},
     "output_type": "execute_result"
    }
   ],
   "source": [
    "label_quality = LabelEncoder()\n",
    "main['SWPc'] = label_quality.fit_transform(main['SWPc'])\n",
    "main['SWPc'].isnull().sum()"
   ]
  },
  {
   "cell_type": "code",
   "execution_count": 154,
   "metadata": {},
   "outputs": [
    {
     "data": {
      "text/plain": [
       "0"
      ]
     },
     "execution_count": 154,
     "metadata": {},
     "output_type": "execute_result"
    }
   ],
   "source": [
    "bins = (2,18,40)\n",
    "group_names = ['WL1','WL2']\n",
    "main['SWPc2'] = pd.cut(main['SWP'], bins=bins , labels=group_names)\n",
    "main['SWPc2'] = label_quality.fit_transform(main['SWPc2'])\n",
    "main['SWPc2'].isnull().sum()"
   ]
  },
  {
   "cell_type": "code",
   "execution_count": 155,
   "metadata": {},
   "outputs": [
    {
     "data": {
      "text/html": [
       "<div>\n",
       "<style scoped>\n",
       "    .dataframe tbody tr th:only-of-type {\n",
       "        vertical-align: middle;\n",
       "    }\n",
       "\n",
       "    .dataframe tbody tr th {\n",
       "        vertical-align: top;\n",
       "    }\n",
       "\n",
       "    .dataframe thead th {\n",
       "        text-align: right;\n",
       "    }\n",
       "</style>\n",
       "<table border=\"1\" class=\"dataframe\">\n",
       "  <thead>\n",
       "    <tr style=\"text-align: right;\">\n",
       "      <th></th>\n",
       "      <th>tree_idx</th>\n",
       "      <th>test_number</th>\n",
       "      <th>leaf_temp</th>\n",
       "      <th>Ta</th>\n",
       "      <th>cwsi</th>\n",
       "      <th>NDVI median</th>\n",
       "      <th>GNDVI median</th>\n",
       "      <th>OSAVI median</th>\n",
       "      <th>LCI median</th>\n",
       "      <th>NDRE median</th>\n",
       "      <th>SWP</th>\n",
       "      <th>SWPc</th>\n",
       "      <th>SWPc2</th>\n",
       "    </tr>\n",
       "  </thead>\n",
       "  <tbody>\n",
       "    <tr>\n",
       "      <th>0</th>\n",
       "      <td>1</td>\n",
       "      <td>T1</td>\n",
       "      <td>31.000000</td>\n",
       "      <td>35.41</td>\n",
       "      <td>0.225049</td>\n",
       "      <td>0.680596</td>\n",
       "      <td>0.564822</td>\n",
       "      <td>0.343672</td>\n",
       "      <td>0.238299</td>\n",
       "      <td>0.165678</td>\n",
       "      <td>21.33</td>\n",
       "      <td>1</td>\n",
       "      <td>1</td>\n",
       "    </tr>\n",
       "    <tr>\n",
       "      <th>1</th>\n",
       "      <td>2</td>\n",
       "      <td>T1</td>\n",
       "      <td>31.500000</td>\n",
       "      <td>35.41</td>\n",
       "      <td>0.254403</td>\n",
       "      <td>0.709513</td>\n",
       "      <td>0.589902</td>\n",
       "      <td>0.347813</td>\n",
       "      <td>0.241712</td>\n",
       "      <td>0.165408</td>\n",
       "      <td>16.33</td>\n",
       "      <td>0</td>\n",
       "      <td>0</td>\n",
       "    </tr>\n",
       "    <tr>\n",
       "      <th>2</th>\n",
       "      <td>3</td>\n",
       "      <td>T1</td>\n",
       "      <td>30.833333</td>\n",
       "      <td>35.41</td>\n",
       "      <td>0.215264</td>\n",
       "      <td>0.696943</td>\n",
       "      <td>0.578733</td>\n",
       "      <td>0.352290</td>\n",
       "      <td>0.224013</td>\n",
       "      <td>0.152534</td>\n",
       "      <td>24.00</td>\n",
       "      <td>2</td>\n",
       "      <td>1</td>\n",
       "    </tr>\n",
       "    <tr>\n",
       "      <th>3</th>\n",
       "      <td>4</td>\n",
       "      <td>T1</td>\n",
       "      <td>30.666667</td>\n",
       "      <td>35.41</td>\n",
       "      <td>0.205479</td>\n",
       "      <td>0.713962</td>\n",
       "      <td>0.580458</td>\n",
       "      <td>0.358707</td>\n",
       "      <td>0.222680</td>\n",
       "      <td>0.149966</td>\n",
       "      <td>17.17</td>\n",
       "      <td>0</td>\n",
       "      <td>0</td>\n",
       "    </tr>\n",
       "    <tr>\n",
       "      <th>4</th>\n",
       "      <td>5</td>\n",
       "      <td>T1</td>\n",
       "      <td>30.000000</td>\n",
       "      <td>35.41</td>\n",
       "      <td>0.166341</td>\n",
       "      <td>0.692211</td>\n",
       "      <td>0.576588</td>\n",
       "      <td>0.331614</td>\n",
       "      <td>0.233609</td>\n",
       "      <td>0.160824</td>\n",
       "      <td>18.50</td>\n",
       "      <td>0</td>\n",
       "      <td>1</td>\n",
       "    </tr>\n",
       "    <tr>\n",
       "      <th>...</th>\n",
       "      <td>...</td>\n",
       "      <td>...</td>\n",
       "      <td>...</td>\n",
       "      <td>...</td>\n",
       "      <td>...</td>\n",
       "      <td>...</td>\n",
       "      <td>...</td>\n",
       "      <td>...</td>\n",
       "      <td>...</td>\n",
       "      <td>...</td>\n",
       "      <td>...</td>\n",
       "      <td>...</td>\n",
       "      <td>...</td>\n",
       "    </tr>\n",
       "    <tr>\n",
       "      <th>114</th>\n",
       "      <td>13</td>\n",
       "      <td>T7</td>\n",
       "      <td>31.066667</td>\n",
       "      <td>36.07</td>\n",
       "      <td>0.228963</td>\n",
       "      <td>0.671807</td>\n",
       "      <td>0.567401</td>\n",
       "      <td>0.286633</td>\n",
       "      <td>0.226394</td>\n",
       "      <td>0.156473</td>\n",
       "      <td>19.83</td>\n",
       "      <td>1</td>\n",
       "      <td>1</td>\n",
       "    </tr>\n",
       "    <tr>\n",
       "      <th>115</th>\n",
       "      <td>14</td>\n",
       "      <td>T7</td>\n",
       "      <td>32.700000</td>\n",
       "      <td>36.07</td>\n",
       "      <td>0.324853</td>\n",
       "      <td>0.678749</td>\n",
       "      <td>0.569933</td>\n",
       "      <td>0.291628</td>\n",
       "      <td>0.220869</td>\n",
       "      <td>0.152646</td>\n",
       "      <td>25.17</td>\n",
       "      <td>2</td>\n",
       "      <td>1</td>\n",
       "    </tr>\n",
       "    <tr>\n",
       "      <th>116</th>\n",
       "      <td>15</td>\n",
       "      <td>T7</td>\n",
       "      <td>32.100000</td>\n",
       "      <td>36.07</td>\n",
       "      <td>0.289628</td>\n",
       "      <td>0.648854</td>\n",
       "      <td>0.533746</td>\n",
       "      <td>0.297958</td>\n",
       "      <td>0.182921</td>\n",
       "      <td>0.125482</td>\n",
       "      <td>19.50</td>\n",
       "      <td>1</td>\n",
       "      <td>1</td>\n",
       "    </tr>\n",
       "    <tr>\n",
       "      <th>117</th>\n",
       "      <td>16</td>\n",
       "      <td>T7</td>\n",
       "      <td>33.733333</td>\n",
       "      <td>36.07</td>\n",
       "      <td>0.385519</td>\n",
       "      <td>0.575638</td>\n",
       "      <td>0.489463</td>\n",
       "      <td>0.223720</td>\n",
       "      <td>0.153978</td>\n",
       "      <td>0.109748</td>\n",
       "      <td>18.00</td>\n",
       "      <td>0</td>\n",
       "      <td>0</td>\n",
       "    </tr>\n",
       "    <tr>\n",
       "      <th>118</th>\n",
       "      <td>17</td>\n",
       "      <td>T7</td>\n",
       "      <td>33.533333</td>\n",
       "      <td>36.07</td>\n",
       "      <td>0.373777</td>\n",
       "      <td>0.573958</td>\n",
       "      <td>0.486240</td>\n",
       "      <td>0.216944</td>\n",
       "      <td>0.151792</td>\n",
       "      <td>0.106829</td>\n",
       "      <td>19.00</td>\n",
       "      <td>1</td>\n",
       "      <td>1</td>\n",
       "    </tr>\n",
       "  </tbody>\n",
       "</table>\n",
       "<p>111 rows × 13 columns</p>\n",
       "</div>"
      ],
      "text/plain": [
       "     tree_idx test_number  leaf_temp     Ta      cwsi  NDVI median  \\\n",
       "0           1          T1  31.000000  35.41  0.225049     0.680596   \n",
       "1           2          T1  31.500000  35.41  0.254403     0.709513   \n",
       "2           3          T1  30.833333  35.41  0.215264     0.696943   \n",
       "3           4          T1  30.666667  35.41  0.205479     0.713962   \n",
       "4           5          T1  30.000000  35.41  0.166341     0.692211   \n",
       "..        ...         ...        ...    ...       ...          ...   \n",
       "114        13          T7  31.066667  36.07  0.228963     0.671807   \n",
       "115        14          T7  32.700000  36.07  0.324853     0.678749   \n",
       "116        15          T7  32.100000  36.07  0.289628     0.648854   \n",
       "117        16          T7  33.733333  36.07  0.385519     0.575638   \n",
       "118        17          T7  33.533333  36.07  0.373777     0.573958   \n",
       "\n",
       "     GNDVI median  OSAVI median  LCI median  NDRE median    SWP  SWPc  SWPc2  \n",
       "0        0.564822      0.343672    0.238299     0.165678  21.33     1      1  \n",
       "1        0.589902      0.347813    0.241712     0.165408  16.33     0      0  \n",
       "2        0.578733      0.352290    0.224013     0.152534  24.00     2      1  \n",
       "3        0.580458      0.358707    0.222680     0.149966  17.17     0      0  \n",
       "4        0.576588      0.331614    0.233609     0.160824  18.50     0      1  \n",
       "..            ...           ...         ...          ...    ...   ...    ...  \n",
       "114      0.567401      0.286633    0.226394     0.156473  19.83     1      1  \n",
       "115      0.569933      0.291628    0.220869     0.152646  25.17     2      1  \n",
       "116      0.533746      0.297958    0.182921     0.125482  19.50     1      1  \n",
       "117      0.489463      0.223720    0.153978     0.109748  18.00     0      0  \n",
       "118      0.486240      0.216944    0.151792     0.106829  19.00     1      1  \n",
       "\n",
       "[111 rows x 13 columns]"
      ]
     },
     "execution_count": 155,
     "metadata": {},
     "output_type": "execute_result"
    }
   ],
   "source": [
    "main"
   ]
  },
  {
   "cell_type": "code",
   "execution_count": 156,
   "metadata": {},
   "outputs": [
    {
     "name": "stdout",
     "output_type": "stream",
     "text": [
      "SWPc \n",
      " 1    38\n",
      "2    38\n",
      "0    35\n",
      "Name: SWPc, dtype: int64\n"
     ]
    },
    {
     "data": {
      "text/plain": [
       "<AxesSubplot:xlabel='SWPc', ylabel='count'>"
      ]
     },
     "execution_count": 156,
     "metadata": {},
     "output_type": "execute_result"
    },
    {
     "data": {
      "image/png": "[encoded data removed]",
      "text/plain": [
       "<Figure size 640x480 with 1 Axes>"
      ]
     },
     "metadata": {},
     "output_type": "display_data"
    }
   ],
   "source": [
    "print('SWPc \\n',main['SWPc'].value_counts())\n",
    "sns.countplot(x=main['SWPc'])"
   ]
  },
  {
   "cell_type": "code",
   "execution_count": 157,
   "metadata": {},
   "outputs": [
    {
     "name": "stdout",
     "output_type": "stream",
     "text": [
      "\n",
      " SWPc2 \n",
      " 1    82\n",
      "0    29\n",
      "Name: SWPc2, dtype: int64\n"
     ]
    },
    {
     "data": {
      "text/plain": [
       "<AxesSubplot:xlabel='SWPc2', ylabel='count'>"
      ]
     },
     "execution_count": 157,
     "metadata": {},
     "output_type": "execute_result"
    },
    {
     "data": {
      "image/png": "[encoded data removed]",
      "text/plain": [
       "<Figure size 640x480 with 1 Axes>"
      ]
     },
     "metadata": {},
     "output_type": "display_data"
    }
   ],
   "source": [
    "print('\\n SWPc2 \\n',main['SWPc2'].value_counts())\n",
    "sns.countplot(x=main['SWPc2'])"
   ]
  },
  {
   "cell_type": "code",
   "execution_count": 158,
   "metadata": {},
   "outputs": [],
   "source": [
    "X = mdf.drop('SWP',axis=1)\n",
    "y = main['SWPc2']\n",
    "X_train, X_test, y_train, y_test = train_test_split(X, y, test_size = 0.3, \\\n",
    "                                                    random_state = 10)\n",
    "sc = StandardScaler()\n",
    "X_train = sc.fit_transform(X_train)\n",
    "X_test = sc.fit_transform(X_test)\n",
    "cv=10"
   ]
  },
  {
   "cell_type": "code",
   "execution_count": 159,
   "metadata": {},
   "outputs": [
    {
     "name": "stdout",
     "output_type": "stream",
     "text": [
      "Random Forest accuracy:  0.6764705882352942\n",
      "              precision    recall  f1-score   support\n",
      "\n",
      "           0       0.00      0.00      0.00        11\n",
      "           1       0.68      1.00      0.81        23\n",
      "\n",
      "    accuracy                           0.68        34\n",
      "   macro avg       0.34      0.50      0.40        34\n",
      "weighted avg       0.46      0.68      0.55        34\n",
      "\n",
      "[[ 0 11]\n",
      " [ 0 23]]\n"
     ]
    },
    {
     "name": "stderr",
     "output_type": "stream",
     "text": [
      "c:\\Users\\Students\\AppData\\Local\\Programs\\Python\\Python310\\lib\\site-packages\\sklearn\\metrics\\_classification.py:1327: UndefinedMetricWarning: Precision and F-score are ill-defined and being set to 0.0 in labels with no predicted samples. Use `zero_division` parameter to control this behavior.\n",
      "  _warn_prf(average, modifier, msg_start, len(result))\n",
      "c:\\Users\\Students\\AppData\\Local\\Programs\\Python\\Python310\\lib\\site-packages\\sklearn\\metrics\\_classification.py:1327: UndefinedMetricWarning: Precision and F-score are ill-defined and being set to 0.0 in labels with no predicted samples. Use `zero_division` parameter to control this behavior.\n",
      "  _warn_prf(average, modifier, msg_start, len(result))\n",
      "c:\\Users\\Students\\AppData\\Local\\Programs\\Python\\Python310\\lib\\site-packages\\sklearn\\metrics\\_classification.py:1327: UndefinedMetricWarning: Precision and F-score are ill-defined and being set to 0.0 in labels with no predicted samples. Use `zero_division` parameter to control this behavior.\n",
      "  _warn_prf(average, modifier, msg_start, len(result))\n"
     ]
    }
   ],
   "source": [
    "rfc = RandomForestClassifier(n_estimators=250)\n",
    "rfc.fit(X_train, y_train)\n",
    "pred_rfc = rfc.predict(X_test)\n",
    "print('Random Forest accuracy: ',accuracy_score(y_test, pred_rfc))\n",
    "print(classification_report(y_test, pred_rfc))\n",
    "print(confusion_matrix(y_test, pred_rfc))"
   ]
  },
  {
   "cell_type": "code",
   "execution_count": 160,
   "metadata": {},
   "outputs": [
    {
     "name": "stdout",
     "output_type": "stream",
     "text": [
      "SVM accuracy:  0.6764705882352942\n",
      "              precision    recall  f1-score   support\n",
      "\n",
      "           0       0.00      0.00      0.00        11\n",
      "           1       0.68      1.00      0.81        23\n",
      "\n",
      "    accuracy                           0.68        34\n",
      "   macro avg       0.34      0.50      0.40        34\n",
      "weighted avg       0.46      0.68      0.55        34\n",
      "\n",
      "[[ 0 11]\n",
      " [ 0 23]]\n"
     ]
    },
    {
     "name": "stderr",
     "output_type": "stream",
     "text": [
      "c:\\Users\\Students\\AppData\\Local\\Programs\\Python\\Python310\\lib\\site-packages\\sklearn\\metrics\\_classification.py:1327: UndefinedMetricWarning: Precision and F-score are ill-defined and being set to 0.0 in labels with no predicted samples. Use `zero_division` parameter to control this behavior.\n",
      "  _warn_prf(average, modifier, msg_start, len(result))\n",
      "c:\\Users\\Students\\AppData\\Local\\Programs\\Python\\Python310\\lib\\site-packages\\sklearn\\metrics\\_classification.py:1327: UndefinedMetricWarning: Precision and F-score are ill-defined and being set to 0.0 in labels with no predicted samples. Use `zero_division` parameter to control this behavior.\n",
      "  _warn_prf(average, modifier, msg_start, len(result))\n",
      "c:\\Users\\Students\\AppData\\Local\\Programs\\Python\\Python310\\lib\\site-packages\\sklearn\\metrics\\_classification.py:1327: UndefinedMetricWarning: Precision and F-score are ill-defined and being set to 0.0 in labels with no predicted samples. Use `zero_division` parameter to control this behavior.\n",
      "  _warn_prf(average, modifier, msg_start, len(result))\n"
     ]
    }
   ],
   "source": [
    "clf=SVC()\n",
    "clf.fit(X_train,y_train)\n",
    "pred_clf = clf.predict(X_test)\n",
    "print('SVM accuracy: ',accuracy_score(y_test, pred_clf))\n",
    "print(classification_report(y_test, pred_clf))\n",
    "print(confusion_matrix(y_test, pred_clf))"
   ]
  },
  {
   "cell_type": "code",
   "execution_count": 161,
   "metadata": {},
   "outputs": [
    {
     "name": "stdout",
     "output_type": "stream",
     "text": [
      "DT accuracy:  0.5882352941176471\n",
      "              precision    recall  f1-score   support\n",
      "\n",
      "           0       0.40      0.55      0.46        11\n",
      "           1       0.74      0.61      0.67        23\n",
      "\n",
      "    accuracy                           0.59        34\n",
      "   macro avg       0.57      0.58      0.56        34\n",
      "weighted avg       0.63      0.59      0.60        34\n",
      "\n",
      "[[ 6  5]\n",
      " [ 9 14]]\n"
     ]
    }
   ],
   "source": [
    "gnb= GaussianNB()\n",
    "gnb.fit(X_train,y_train)\n",
    "pred_gnb = gnb.predict(X_test)\n",
    "print('DT accuracy: ',accuracy_score(y_test, pred_gnb))\n",
    "print(classification_report(y_test, pred_gnb))\n",
    "print(confusion_matrix(y_test, pred_gnb))"
   ]
  },
  {
   "cell_type": "code",
   "execution_count": 162,
   "metadata": {},
   "outputs": [
    {
     "name": "stdout",
     "output_type": "stream",
     "text": [
      "DT accuracy:  0.6470588235294118\n",
      "              precision    recall  f1-score   support\n",
      "\n",
      "           0       0.33      0.09      0.14        11\n",
      "           1       0.68      0.91      0.78        23\n",
      "\n",
      "    accuracy                           0.65        34\n",
      "   macro avg       0.51      0.50      0.46        34\n",
      "weighted avg       0.57      0.65      0.57        34\n",
      "\n",
      "[[ 1 10]\n",
      " [ 2 21]]\n"
     ]
    }
   ],
   "source": [
    "dt= tree.DecisionTreeClassifier()\n",
    "dt.fit(X_train,y_train)\n",
    "pred_dt = dt.predict(X_test)\n",
    "print('DT accuracy: ',accuracy_score(y_test, pred_dt))\n",
    "print(classification_report(y_test, pred_dt))\n",
    "print(confusion_matrix(y_test, pred_dt))"
   ]
  },
  {
   "cell_type": "code",
   "execution_count": 163,
   "metadata": {},
   "outputs": [
    {
     "name": "stdout",
     "output_type": "stream",
     "text": [
      "KNN accuracy:  0.7058823529411765\n",
      "              precision    recall  f1-score   support\n",
      "\n",
      "           0       0.67      0.18      0.29        11\n",
      "           1       0.71      0.96      0.81        23\n",
      "\n",
      "    accuracy                           0.71        34\n",
      "   macro avg       0.69      0.57      0.55        34\n",
      "weighted avg       0.70      0.71      0.64        34\n",
      "\n",
      "[[ 2  9]\n",
      " [ 1 22]]\n"
     ]
    }
   ],
   "source": [
    "knn= KNeighborsClassifier(n_neighbors=3)\n",
    "knn.fit(X_train,y_train)\n",
    "pred_knn = knn.predict(X_test)\n",
    "print('KNN accuracy: ',accuracy_score(y_test, pred_knn))\n",
    "print(classification_report(y_test, pred_knn))\n",
    "print(confusion_matrix(y_test, pred_knn))"
   ]
  },
  {
   "cell_type": "code",
   "execution_count": 164,
   "metadata": {},
   "outputs": [
    {
     "name": "stdout",
     "output_type": "stream",
     "text": [
      "Neural Network accuracy:  0.7058823529411765\n",
      "              precision    recall  f1-score   support\n",
      "\n",
      "           0       1.00      0.09      0.17        11\n",
      "           1       0.70      1.00      0.82        23\n",
      "\n",
      "    accuracy                           0.71        34\n",
      "   macro avg       0.85      0.55      0.49        34\n",
      "weighted avg       0.80      0.71      0.61        34\n",
      "\n",
      "[[ 1 10]\n",
      " [ 0 23]]\n"
     ]
    }
   ],
   "source": [
    "mlpc= MLPClassifier(hidden_layer_sizes=(15,15),max_iter=2000)\n",
    "mlpc.fit(X_train,y_train)\n",
    "pred_mlpc = mlpc.predict(X_test)\n",
    "print('Neural Network accuracy: ',accuracy_score(y_test, pred_mlpc))\n",
    "print(classification_report(y_test, pred_mlpc))\n",
    "print(confusion_matrix(y_test, pred_mlpc))"
   ]
  },
  {
   "cell_type": "code",
   "execution_count": 165,
   "metadata": {},
   "outputs": [],
   "source": [
    "cval_rf = np.array(cross_val_score(rfc, X, y, cv=cv))\n",
    "cval_svc = np.array(cross_val_score(clf, X, y, cv=cv))\n",
    "cval_gnb = np.array(cross_val_score(gnb, X, y, cv=cv))\n",
    "cval_dt = np.array(cross_val_score(dt, X, y, cv=cv))\n",
    "cval_knn = np.array(cross_val_score(knn, X, y, cv=cv))\n",
    "cval_nn = np.array(cross_val_score(mlpc, X, y, cv=cv))"
   ]
  },
  {
   "cell_type": "code",
   "execution_count": 170,
   "metadata": {},
   "outputs": [
    {
     "name": "stdout",
     "output_type": "stream",
     "text": [
      "                  mean             std    \n",
      "\n",
      " RandomF    0.8295454545454545 0.11644262234044997\n",
      "\n",
      " SVM        0.7386363636363636 0.02736726040634613\n",
      "\n",
      " GaussianNB 0.6075757575757577 0.2629955639676584\n",
      "\n",
      " DT         0.8030303030303031 0.1422952349318048\n",
      "\n",
      " KNN        0.7840909090909092 0.19530914253312565\n",
      "\n",
      " NN         0.7386363636363636 0.02736726040634613\n"
     ]
    }
   ],
   "source": [
    "\n",
    "print('                  mean             std    ')\n",
    "print('\\n RandomF   ',cval_rf.mean(),cval_rf.std())\n",
    "print('\\n SVM       ',cval_svc.mean(),cval_svc.std())\n",
    "print('\\n GaussianNB',cval_gnb.mean(),cval_gnb.std())\n",
    "print('\\n DT        ',cval_dt.mean(),cval_dt.std())\n",
    "print('\\n KNN       ',cval_knn.mean(),cval_knn.std())\n",
    "print('\\n NN        ',cval_nn.mean(),cval_nn.std())"
   ]
  },
  {
   "cell_type": "code",
   "execution_count": 167,
   "metadata": {},
   "outputs": [
    {
     "data": {
      "image/png": "[encoded data removed]",
      "text/plain": [
       "<Figure size 640x480 with 1 Axes>"
      ]
     },
     "metadata": {},
     "output_type": "display_data"
    }
   ],
   "source": [
    "data = [cval_rf,cval_svc,cval_gnb,cval_dt,cval_knn,cval_nn]\n",
    "plt.boxplot(data)\n",
    "plt.xticks([1, 2, 3, 4, 5, 6],['RandomForest','SVM','GaussianNB','DT','KNN','NN'])\n",
    "plt.ylabel('Accuracy score')\n",
    "plt.title('Accuracy score with cross validation = ' + str(cv))\n",
    "plt.show()"
   ]
  },
  {
   "attachments": {},
   "cell_type": "markdown",
   "metadata": {},
   "source": [
    "Optimized Hyperparameters\n"
   ]
  },
  {
   "cell_type": "markdown",
   "metadata": {},
   "source": []
  }
 ],
 "metadata": {
  "kernelspec": {
   "display_name": "Python 3",
   "language": "python",
   "name": "python3"
  },
  "language_info": {
   "codemirror_mode": {
    "name": "ipython",
    "version": 3
   },
   "file_extension": ".py",
   "mimetype": "text/x-python",
   "name": "python",
   "nbconvert_exporter": "python",
   "pygments_lexer": "ipython3",
   "version": "3.10.5"
  },
  "orig_nbformat": 4
 },
 "nbformat": 4,
 "nbformat_minor": 2
}
