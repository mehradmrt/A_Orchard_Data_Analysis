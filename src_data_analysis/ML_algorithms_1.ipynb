{
 "cells": [
  {
   "cell_type": "code",
   "execution_count": 497,
   "metadata": {},
   "outputs": [],
   "source": [
    "import pandas as pd\n",
    "import numpy as np\n",
    "import matplotlib.pyplot as plt\n",
    "import seaborn as sns\n",
    "from sklearn.ensemble import RandomForestClassifier\n",
    "from sklearn.svm import SVC\n",
    "from sklearn.naive_bayes import GaussianNB\n",
    "from sklearn import tree\n",
    "from sklearn.neighbors import KNeighborsClassifier\n",
    "from sklearn.neural_network import MLPClassifier\n",
    "from sklearn.metrics import confusion_matrix, classification_report, accuracy_score\n",
    "from sklearn.preprocessing import StandardScaler, LabelEncoder\n",
    "from sklearn.model_selection import train_test_split, cross_val_score, GridSearchCV, RandomizedSearchCV\n",
    "from sklearn.decomposition import PCA\n",
    "from sklearn.pipeline import Pipeline\n",
    "from sklearn.feature_selection import SequentialFeatureSelector, RFECV\n",
    "from scipy.stats import randint\n"
   ]
  },
  {
   "cell_type": "code",
   "execution_count": 499,
   "metadata": {},
   "outputs": [
    {
     "name": "stdout",
     "output_type": "stream",
     "text": [
      "<class 'pandas.core.frame.DataFrame'>\n",
      "Int64Index: 111 entries, 0 to 118\n",
      "Data columns (total 12 columns):\n",
      " #   Column        Non-Null Count  Dtype  \n",
      "---  ------        --------------  -----  \n",
      " 0   tree_idx      111 non-null    int64  \n",
      " 1   test_number   111 non-null    object \n",
      " 2   leaf_temp     111 non-null    float64\n",
      " 3   Ta            111 non-null    float64\n",
      " 4   cwsi          111 non-null    float64\n",
      " 5   NDVI median   111 non-null    float64\n",
      " 6   GNDVI median  111 non-null    float64\n",
      " 7   OSAVI median  111 non-null    float64\n",
      " 8   LCI median    111 non-null    float64\n",
      " 9   NDRE median   111 non-null    float64\n",
      " 10  SWP           111 non-null    float64\n",
      " 11  SWPc          111 non-null    object \n",
      "dtypes: float64(9), int64(1), object(2)\n",
      "memory usage: 11.3+ KB\n"
     ]
    },
    {
     "data": {
      "text/html": [
       "<div>\n",
       "<style scoped>\n",
       "    .dataframe tbody tr th:only-of-type {\n",
       "        vertical-align: middle;\n",
       "    }\n",
       "\n",
       "    .dataframe tbody tr th {\n",
       "        vertical-align: top;\n",
       "    }\n",
       "\n",
       "    .dataframe thead th {\n",
       "        text-align: right;\n",
       "    }\n",
       "</style>\n",
       "<table border=\"1\" class=\"dataframe\">\n",
       "  <thead>\n",
       "    <tr style=\"text-align: right;\">\n",
       "      <th></th>\n",
       "      <th>leaf_temp</th>\n",
       "      <th>Ta</th>\n",
       "      <th>cwsi</th>\n",
       "      <th>NDVI median</th>\n",
       "      <th>GNDVI median</th>\n",
       "      <th>OSAVI median</th>\n",
       "      <th>LCI median</th>\n",
       "      <th>NDRE median</th>\n",
       "      <th>SWP</th>\n",
       "    </tr>\n",
       "  </thead>\n",
       "  <tbody>\n",
       "    <tr>\n",
       "      <th>0</th>\n",
       "      <td>31.000000</td>\n",
       "      <td>35.41</td>\n",
       "      <td>0.225049</td>\n",
       "      <td>0.680596</td>\n",
       "      <td>0.564822</td>\n",
       "      <td>0.343672</td>\n",
       "      <td>0.238299</td>\n",
       "      <td>0.165678</td>\n",
       "      <td>21.33</td>\n",
       "    </tr>\n",
       "    <tr>\n",
       "      <th>1</th>\n",
       "      <td>31.500000</td>\n",
       "      <td>35.41</td>\n",
       "      <td>0.254403</td>\n",
       "      <td>0.709513</td>\n",
       "      <td>0.589902</td>\n",
       "      <td>0.347813</td>\n",
       "      <td>0.241712</td>\n",
       "      <td>0.165408</td>\n",
       "      <td>16.33</td>\n",
       "    </tr>\n",
       "    <tr>\n",
       "      <th>2</th>\n",
       "      <td>30.833333</td>\n",
       "      <td>35.41</td>\n",
       "      <td>0.215264</td>\n",
       "      <td>0.696943</td>\n",
       "      <td>0.578733</td>\n",
       "      <td>0.352290</td>\n",
       "      <td>0.224013</td>\n",
       "      <td>0.152534</td>\n",
       "      <td>24.00</td>\n",
       "    </tr>\n",
       "    <tr>\n",
       "      <th>3</th>\n",
       "      <td>30.666667</td>\n",
       "      <td>35.41</td>\n",
       "      <td>0.205479</td>\n",
       "      <td>0.713962</td>\n",
       "      <td>0.580458</td>\n",
       "      <td>0.358707</td>\n",
       "      <td>0.222680</td>\n",
       "      <td>0.149966</td>\n",
       "      <td>17.17</td>\n",
       "    </tr>\n",
       "    <tr>\n",
       "      <th>4</th>\n",
       "      <td>30.000000</td>\n",
       "      <td>35.41</td>\n",
       "      <td>0.166341</td>\n",
       "      <td>0.692211</td>\n",
       "      <td>0.576588</td>\n",
       "      <td>0.331614</td>\n",
       "      <td>0.233609</td>\n",
       "      <td>0.160824</td>\n",
       "      <td>18.50</td>\n",
       "    </tr>\n",
       "    <tr>\n",
       "      <th>...</th>\n",
       "      <td>...</td>\n",
       "      <td>...</td>\n",
       "      <td>...</td>\n",
       "      <td>...</td>\n",
       "      <td>...</td>\n",
       "      <td>...</td>\n",
       "      <td>...</td>\n",
       "      <td>...</td>\n",
       "      <td>...</td>\n",
       "    </tr>\n",
       "    <tr>\n",
       "      <th>114</th>\n",
       "      <td>31.066667</td>\n",
       "      <td>36.07</td>\n",
       "      <td>0.228963</td>\n",
       "      <td>0.671807</td>\n",
       "      <td>0.567401</td>\n",
       "      <td>0.286633</td>\n",
       "      <td>0.226394</td>\n",
       "      <td>0.156473</td>\n",
       "      <td>19.83</td>\n",
       "    </tr>\n",
       "    <tr>\n",
       "      <th>115</th>\n",
       "      <td>32.700000</td>\n",
       "      <td>36.07</td>\n",
       "      <td>0.324853</td>\n",
       "      <td>0.678749</td>\n",
       "      <td>0.569933</td>\n",
       "      <td>0.291628</td>\n",
       "      <td>0.220869</td>\n",
       "      <td>0.152646</td>\n",
       "      <td>25.17</td>\n",
       "    </tr>\n",
       "    <tr>\n",
       "      <th>116</th>\n",
       "      <td>32.100000</td>\n",
       "      <td>36.07</td>\n",
       "      <td>0.289628</td>\n",
       "      <td>0.648854</td>\n",
       "      <td>0.533746</td>\n",
       "      <td>0.297958</td>\n",
       "      <td>0.182921</td>\n",
       "      <td>0.125482</td>\n",
       "      <td>19.50</td>\n",
       "    </tr>\n",
       "    <tr>\n",
       "      <th>117</th>\n",
       "      <td>33.733333</td>\n",
       "      <td>36.07</td>\n",
       "      <td>0.385519</td>\n",
       "      <td>0.575638</td>\n",
       "      <td>0.489463</td>\n",
       "      <td>0.223720</td>\n",
       "      <td>0.153978</td>\n",
       "      <td>0.109748</td>\n",
       "      <td>18.00</td>\n",
       "    </tr>\n",
       "    <tr>\n",
       "      <th>118</th>\n",
       "      <td>33.533333</td>\n",
       "      <td>36.07</td>\n",
       "      <td>0.373777</td>\n",
       "      <td>0.573958</td>\n",
       "      <td>0.486240</td>\n",
       "      <td>0.216944</td>\n",
       "      <td>0.151792</td>\n",
       "      <td>0.106829</td>\n",
       "      <td>19.00</td>\n",
       "    </tr>\n",
       "  </tbody>\n",
       "</table>\n",
       "<p>111 rows × 9 columns</p>\n",
       "</div>"
      ],
      "text/plain": [
       "     leaf_temp     Ta      cwsi  NDVI median  GNDVI median  OSAVI median  \\\n",
       "0    31.000000  35.41  0.225049     0.680596      0.564822      0.343672   \n",
       "1    31.500000  35.41  0.254403     0.709513      0.589902      0.347813   \n",
       "2    30.833333  35.41  0.215264     0.696943      0.578733      0.352290   \n",
       "3    30.666667  35.41  0.205479     0.713962      0.580458      0.358707   \n",
       "4    30.000000  35.41  0.166341     0.692211      0.576588      0.331614   \n",
       "..         ...    ...       ...          ...           ...           ...   \n",
       "114  31.066667  36.07  0.228963     0.671807      0.567401      0.286633   \n",
       "115  32.700000  36.07  0.324853     0.678749      0.569933      0.291628   \n",
       "116  32.100000  36.07  0.289628     0.648854      0.533746      0.297958   \n",
       "117  33.733333  36.07  0.385519     0.575638      0.489463      0.223720   \n",
       "118  33.533333  36.07  0.373777     0.573958      0.486240      0.216944   \n",
       "\n",
       "     LCI median  NDRE median    SWP  \n",
       "0      0.238299     0.165678  21.33  \n",
       "1      0.241712     0.165408  16.33  \n",
       "2      0.224013     0.152534  24.00  \n",
       "3      0.222680     0.149966  17.17  \n",
       "4      0.233609     0.160824  18.50  \n",
       "..          ...          ...    ...  \n",
       "114    0.226394     0.156473  19.83  \n",
       "115    0.220869     0.152646  25.17  \n",
       "116    0.182921     0.125482  19.50  \n",
       "117    0.153978     0.109748  18.00  \n",
       "118    0.151792     0.106829  19.00  \n",
       "\n",
       "[111 rows x 9 columns]"
      ]
     },
     "execution_count": 499,
     "metadata": {},
     "output_type": "execute_result"
    }
   ],
   "source": [
    "\n",
    "main = pd.read_json('../results_cleaned/mdf_all.json')\n",
    "main = main.dropna(how='any',axis=0) \n",
    "main.info()\n",
    "mdf = main.iloc[:,2:-1]\n",
    "mdf\n",
    "# mdf.isnull().sum()"
   ]
  },
  {
   "cell_type": "code",
   "execution_count": 287,
   "metadata": {},
   "outputs": [
    {
     "name": "stdout",
     "output_type": "stream",
     "text": [
      "              leaf_temp        Ta      cwsi  NDVI median  GNDVI median  \\\n",
      "leaf_temp      1.000000  0.427490  1.000000    -0.443665     -0.373845   \n",
      "Ta             0.427490  1.000000  0.427490     0.096421      0.121853   \n",
      "cwsi           1.000000  0.427490  1.000000    -0.443665     -0.373845   \n",
      "NDVI median   -0.443665  0.096421 -0.443665     1.000000      0.947426   \n",
      "GNDVI median  -0.373845  0.121853 -0.373845     0.947426      1.000000   \n",
      "OSAVI median  -0.476795  0.044701 -0.476795     0.905588      0.816527   \n",
      "LCI median    -0.186755  0.143530 -0.186755     0.777831      0.890429   \n",
      "NDRE median   -0.102780  0.147473 -0.102780     0.659887      0.802874   \n",
      "SWP            0.430160  0.551078  0.430160     0.054667      0.082618   \n",
      "\n",
      "              OSAVI median  LCI median  NDRE median       SWP  \n",
      "leaf_temp        -0.476795   -0.186755    -0.102780  0.430160  \n",
      "Ta                0.044701    0.143530     0.147473  0.551078  \n",
      "cwsi             -0.476795   -0.186755    -0.102780  0.430160  \n",
      "NDVI median       0.905588    0.777831     0.659887  0.054667  \n",
      "GNDVI median      0.816527    0.890429     0.802874  0.082618  \n",
      "OSAVI median      1.000000    0.614462     0.490813  0.011253  \n",
      "LCI median        0.614462    1.000000     0.984420  0.149763  \n",
      "NDRE median       0.490813    0.984420     1.000000  0.177583  \n",
      "SWP               0.011253    0.149763     0.177583  1.000000  \n"
     ]
    }
   ],
   "source": [
    "corrs = mdf.corr()\n",
    "print(corrs)\n",
    "# print(corrs['SWP'].sort_values(ascending=False),'\\n')"
   ]
  },
  {
   "cell_type": "code",
   "execution_count": 288,
   "metadata": {},
   "outputs": [
    {
     "data": {
      "text/plain": [
       "<AxesSubplot:>"
      ]
     },
     "execution_count": 288,
     "metadata": {},
     "output_type": "execute_result"
    },
    {
     "data": {
      "image/png": "[encoded data removed]",
      "text/plain": [
       "<Figure size 500x500 with 2 Axes>"
      ]
     },
     "metadata": {},
     "output_type": "display_data"
    }
   ],
   "source": [
    "f , ax = plt.subplots(figsize=(5,5))\n",
    "\n",
    "sns.heatmap(abs(corrs),square=True,vmax=1)"
   ]
  },
  {
   "cell_type": "code",
   "execution_count": 502,
   "metadata": {},
   "outputs": [
    {
     "data": {
      "text/plain": [
       "<AxesSubplot:>"
      ]
     },
     "execution_count": 502,
     "metadata": {},
     "output_type": "execute_result"
    },
    {
     "data": {
      "image/png": "[encoded data removed]",
      "text/plain": [
       "<Figure size 500x500 with 2 Axes>"
      ]
     },
     "metadata": {},
     "output_type": "display_data"
    }
   ],
   "source": [
    "# mdf = mdf.drop(['LCI median','NDVI median','GNDVI median', 'leaf_temp','OSAVI median'], axis=1)\n",
    "mdf = mdf.drop(['leaf_temp'], axis=1)\n",
    "corrs = mdf.corr()\n",
    "f , ax = plt.subplots(figsize=(5,5))\n",
    "sns.heatmap(abs(corrs),square=True,vmax=1)"
   ]
  },
  {
   "cell_type": "code",
   "execution_count": 482,
   "metadata": {},
   "outputs": [
    {
     "data": {
      "text/plain": [
       "0"
      ]
     },
     "execution_count": 482,
     "metadata": {},
     "output_type": "execute_result"
    }
   ],
   "source": [
    "bins = (0,18,40)\n",
    "label_quality = LabelEncoder()\n",
    "# group_names = ['WL1','WL2']\n",
    "main['SWPc2'] = pd.cut(main['SWP'], bins=bins)\n",
    "main['SWPc2'] = label_quality.fit_transform(main['SWPc2'])\n",
    "main['SWPc2'].isnull().sum()"
   ]
  },
  {
   "cell_type": "code",
   "execution_count": 483,
   "metadata": {},
   "outputs": [
    {
     "data": {
      "text/html": [
       "<div>\n",
       "<style scoped>\n",
       "    .dataframe tbody tr th:only-of-type {\n",
       "        vertical-align: middle;\n",
       "    }\n",
       "\n",
       "    .dataframe tbody tr th {\n",
       "        vertical-align: top;\n",
       "    }\n",
       "\n",
       "    .dataframe thead th {\n",
       "        text-align: right;\n",
       "    }\n",
       "</style>\n",
       "<table border=\"1\" class=\"dataframe\">\n",
       "  <thead>\n",
       "    <tr style=\"text-align: right;\">\n",
       "      <th></th>\n",
       "      <th>tree_idx</th>\n",
       "      <th>test_number</th>\n",
       "      <th>leaf_temp</th>\n",
       "      <th>Ta</th>\n",
       "      <th>cwsi</th>\n",
       "      <th>NDVI median</th>\n",
       "      <th>GNDVI median</th>\n",
       "      <th>OSAVI median</th>\n",
       "      <th>LCI median</th>\n",
       "      <th>NDRE median</th>\n",
       "      <th>SWP</th>\n",
       "      <th>SWPc</th>\n",
       "      <th>SWPc2</th>\n",
       "    </tr>\n",
       "  </thead>\n",
       "  <tbody>\n",
       "    <tr>\n",
       "      <th>0</th>\n",
       "      <td>1</td>\n",
       "      <td>T1</td>\n",
       "      <td>31.000000</td>\n",
       "      <td>35.41</td>\n",
       "      <td>0.225049</td>\n",
       "      <td>0.680596</td>\n",
       "      <td>0.564822</td>\n",
       "      <td>0.343672</td>\n",
       "      <td>0.238299</td>\n",
       "      <td>0.165678</td>\n",
       "      <td>21.33</td>\n",
       "      <td>WL-2</td>\n",
       "      <td>1</td>\n",
       "    </tr>\n",
       "    <tr>\n",
       "      <th>1</th>\n",
       "      <td>2</td>\n",
       "      <td>T1</td>\n",
       "      <td>31.500000</td>\n",
       "      <td>35.41</td>\n",
       "      <td>0.254403</td>\n",
       "      <td>0.709513</td>\n",
       "      <td>0.589902</td>\n",
       "      <td>0.347813</td>\n",
       "      <td>0.241712</td>\n",
       "      <td>0.165408</td>\n",
       "      <td>16.33</td>\n",
       "      <td>WL-1</td>\n",
       "      <td>0</td>\n",
       "    </tr>\n",
       "    <tr>\n",
       "      <th>2</th>\n",
       "      <td>3</td>\n",
       "      <td>T1</td>\n",
       "      <td>30.833333</td>\n",
       "      <td>35.41</td>\n",
       "      <td>0.215264</td>\n",
       "      <td>0.696943</td>\n",
       "      <td>0.578733</td>\n",
       "      <td>0.352290</td>\n",
       "      <td>0.224013</td>\n",
       "      <td>0.152534</td>\n",
       "      <td>24.00</td>\n",
       "      <td>WL-3</td>\n",
       "      <td>1</td>\n",
       "    </tr>\n",
       "    <tr>\n",
       "      <th>3</th>\n",
       "      <td>4</td>\n",
       "      <td>T1</td>\n",
       "      <td>30.666667</td>\n",
       "      <td>35.41</td>\n",
       "      <td>0.205479</td>\n",
       "      <td>0.713962</td>\n",
       "      <td>0.580458</td>\n",
       "      <td>0.358707</td>\n",
       "      <td>0.222680</td>\n",
       "      <td>0.149966</td>\n",
       "      <td>17.17</td>\n",
       "      <td>WL-1</td>\n",
       "      <td>0</td>\n",
       "    </tr>\n",
       "    <tr>\n",
       "      <th>4</th>\n",
       "      <td>5</td>\n",
       "      <td>T1</td>\n",
       "      <td>30.000000</td>\n",
       "      <td>35.41</td>\n",
       "      <td>0.166341</td>\n",
       "      <td>0.692211</td>\n",
       "      <td>0.576588</td>\n",
       "      <td>0.331614</td>\n",
       "      <td>0.233609</td>\n",
       "      <td>0.160824</td>\n",
       "      <td>18.50</td>\n",
       "      <td>WL-1</td>\n",
       "      <td>1</td>\n",
       "    </tr>\n",
       "    <tr>\n",
       "      <th>...</th>\n",
       "      <td>...</td>\n",
       "      <td>...</td>\n",
       "      <td>...</td>\n",
       "      <td>...</td>\n",
       "      <td>...</td>\n",
       "      <td>...</td>\n",
       "      <td>...</td>\n",
       "      <td>...</td>\n",
       "      <td>...</td>\n",
       "      <td>...</td>\n",
       "      <td>...</td>\n",
       "      <td>...</td>\n",
       "      <td>...</td>\n",
       "    </tr>\n",
       "    <tr>\n",
       "      <th>114</th>\n",
       "      <td>13</td>\n",
       "      <td>T7</td>\n",
       "      <td>31.066667</td>\n",
       "      <td>36.07</td>\n",
       "      <td>0.228963</td>\n",
       "      <td>0.671807</td>\n",
       "      <td>0.567401</td>\n",
       "      <td>0.286633</td>\n",
       "      <td>0.226394</td>\n",
       "      <td>0.156473</td>\n",
       "      <td>19.83</td>\n",
       "      <td>WL-2</td>\n",
       "      <td>1</td>\n",
       "    </tr>\n",
       "    <tr>\n",
       "      <th>115</th>\n",
       "      <td>14</td>\n",
       "      <td>T7</td>\n",
       "      <td>32.700000</td>\n",
       "      <td>36.07</td>\n",
       "      <td>0.324853</td>\n",
       "      <td>0.678749</td>\n",
       "      <td>0.569933</td>\n",
       "      <td>0.291628</td>\n",
       "      <td>0.220869</td>\n",
       "      <td>0.152646</td>\n",
       "      <td>25.17</td>\n",
       "      <td>WL-3</td>\n",
       "      <td>1</td>\n",
       "    </tr>\n",
       "    <tr>\n",
       "      <th>116</th>\n",
       "      <td>15</td>\n",
       "      <td>T7</td>\n",
       "      <td>32.100000</td>\n",
       "      <td>36.07</td>\n",
       "      <td>0.289628</td>\n",
       "      <td>0.648854</td>\n",
       "      <td>0.533746</td>\n",
       "      <td>0.297958</td>\n",
       "      <td>0.182921</td>\n",
       "      <td>0.125482</td>\n",
       "      <td>19.50</td>\n",
       "      <td>WL-2</td>\n",
       "      <td>1</td>\n",
       "    </tr>\n",
       "    <tr>\n",
       "      <th>117</th>\n",
       "      <td>16</td>\n",
       "      <td>T7</td>\n",
       "      <td>33.733333</td>\n",
       "      <td>36.07</td>\n",
       "      <td>0.385519</td>\n",
       "      <td>0.575638</td>\n",
       "      <td>0.489463</td>\n",
       "      <td>0.223720</td>\n",
       "      <td>0.153978</td>\n",
       "      <td>0.109748</td>\n",
       "      <td>18.00</td>\n",
       "      <td>WL-1</td>\n",
       "      <td>0</td>\n",
       "    </tr>\n",
       "    <tr>\n",
       "      <th>118</th>\n",
       "      <td>17</td>\n",
       "      <td>T7</td>\n",
       "      <td>33.533333</td>\n",
       "      <td>36.07</td>\n",
       "      <td>0.373777</td>\n",
       "      <td>0.573958</td>\n",
       "      <td>0.486240</td>\n",
       "      <td>0.216944</td>\n",
       "      <td>0.151792</td>\n",
       "      <td>0.106829</td>\n",
       "      <td>19.00</td>\n",
       "      <td>WL-2</td>\n",
       "      <td>1</td>\n",
       "    </tr>\n",
       "  </tbody>\n",
       "</table>\n",
       "<p>111 rows × 13 columns</p>\n",
       "</div>"
      ],
      "text/plain": [
       "     tree_idx test_number  leaf_temp     Ta      cwsi  NDVI median  \\\n",
       "0           1          T1  31.000000  35.41  0.225049     0.680596   \n",
       "1           2          T1  31.500000  35.41  0.254403     0.709513   \n",
       "2           3          T1  30.833333  35.41  0.215264     0.696943   \n",
       "3           4          T1  30.666667  35.41  0.205479     0.713962   \n",
       "4           5          T1  30.000000  35.41  0.166341     0.692211   \n",
       "..        ...         ...        ...    ...       ...          ...   \n",
       "114        13          T7  31.066667  36.07  0.228963     0.671807   \n",
       "115        14          T7  32.700000  36.07  0.324853     0.678749   \n",
       "116        15          T7  32.100000  36.07  0.289628     0.648854   \n",
       "117        16          T7  33.733333  36.07  0.385519     0.575638   \n",
       "118        17          T7  33.533333  36.07  0.373777     0.573958   \n",
       "\n",
       "     GNDVI median  OSAVI median  LCI median  NDRE median    SWP  SWPc  SWPc2  \n",
       "0        0.564822      0.343672    0.238299     0.165678  21.33  WL-2      1  \n",
       "1        0.589902      0.347813    0.241712     0.165408  16.33  WL-1      0  \n",
       "2        0.578733      0.352290    0.224013     0.152534  24.00  WL-3      1  \n",
       "3        0.580458      0.358707    0.222680     0.149966  17.17  WL-1      0  \n",
       "4        0.576588      0.331614    0.233609     0.160824  18.50  WL-1      1  \n",
       "..            ...           ...         ...          ...    ...   ...    ...  \n",
       "114      0.567401      0.286633    0.226394     0.156473  19.83  WL-2      1  \n",
       "115      0.569933      0.291628    0.220869     0.152646  25.17  WL-3      1  \n",
       "116      0.533746      0.297958    0.182921     0.125482  19.50  WL-2      1  \n",
       "117      0.489463      0.223720    0.153978     0.109748  18.00  WL-1      0  \n",
       "118      0.486240      0.216944    0.151792     0.106829  19.00  WL-2      1  \n",
       "\n",
       "[111 rows x 13 columns]"
      ]
     },
     "execution_count": 483,
     "metadata": {},
     "output_type": "execute_result"
    }
   ],
   "source": [
    "main"
   ]
  },
  {
   "cell_type": "code",
   "execution_count": 484,
   "metadata": {},
   "outputs": [
    {
     "name": "stdout",
     "output_type": "stream",
     "text": [
      "\n",
      " SWPc2 \n",
      " 1    82\n",
      "0    29\n",
      "Name: SWPc2, dtype: int64\n"
     ]
    },
    {
     "data": {
      "text/plain": [
       "(0.0, 100.0)"
      ]
     },
     "execution_count": 484,
     "metadata": {},
     "output_type": "execute_result"
    },
    {
     "data": {
      "image/png": "[encoded data removed]",
      "text/plain": [
       "<Figure size 640x480 with 1 Axes>"
      ]
     },
     "metadata": {},
     "output_type": "display_data"
    }
   ],
   "source": [
    "print('\\n SWPc2 \\n',main['SWPc2'].value_counts())\n",
    "sns.countplot(x=main['SWPc2'])\n",
    "plt.title(\"Distribution of Labels in dataset\")\n",
    "plt.ylim(None,100)"
   ]
  },
  {
   "cell_type": "code",
   "execution_count": 485,
   "metadata": {},
   "outputs": [
    {
     "name": "stdout",
     "output_type": "stream",
     "text": [
      "\n",
      " Test data set \n",
      " 1    19\n",
      "0     9\n",
      "Name: SWPc2, dtype: int64\n"
     ]
    },
    {
     "data": {
      "text/plain": [
       "(0.0, 100.0)"
      ]
     },
     "execution_count": 485,
     "metadata": {},
     "output_type": "execute_result"
    },
    {
     "data": {
      "image/png": "[encoded data removed]",
      "text/plain": [
       "<Figure size 640x480 with 1 Axes>"
      ]
     },
     "metadata": {},
     "output_type": "display_data"
    }
   ],
   "source": [
    "X = mdf.drop('SWP',axis=1)\n",
    "y = main['SWPc2']\n",
    "X_train, X_test, y_train, y_test = train_test_split(X, y, test_size = 0.25, \\\n",
    "                                                    random_state = 42)\n",
    "sc = StandardScaler()\n",
    "X_train = sc.fit_transform(X_train)\n",
    "X_test = sc.fit_transform(X_test)\n",
    "\n",
    "feature_names = mdf.columns[:-1].to_numpy() \n",
    "num_features_to_select = 5\n",
    "cv=10\n",
    "\n",
    "print('\\n Test data set \\n',y_test.value_counts())\n",
    "sns.countplot(x=y_test)\n",
    "plt.title(\"Distribution of Labels in test set\")\n",
    "plt.ylim(None,100)"
   ]
  },
  {
   "cell_type": "code",
   "execution_count": 486,
   "metadata": {},
   "outputs": [],
   "source": [
    "# pca = PCA(n_components=5) \n",
    "# X = pca.fit(X).transform(X)"
   ]
  },
  {
   "attachments": {},
   "cell_type": "markdown",
   "metadata": {},
   "source": [
    "-Random Forest"
   ]
  },
  {
   "cell_type": "code",
   "execution_count": 498,
   "metadata": {},
   "outputs": [
    {
     "name": "stdout",
     "output_type": "stream",
     "text": [
      "Fitting 10 folds for each of 10 candidates, totalling 100 fits\n"
     ]
    },
    {
     "ename": "AttributeError",
     "evalue": "'numpy.ndarray' object has no attribute 'columns'",
     "output_type": "error",
     "traceback": [
      "\u001b[1;31m---------------------------------------------------------------------------\u001b[0m",
      "\u001b[1;31mAttributeError\u001b[0m                            Traceback (most recent call last)",
      "\u001b[1;32mc:\\Users\\Students\\Box\\Research\\IoT4ag\\Project_ Water Stress\\Data Analysis\\Almond Orchard\\A_Orchard_Data_Analysis\\src_data_analysis\\ML_algorithms_1.ipynb Cell 12\u001b[0m in \u001b[0;36m2\n\u001b[0;32m     <a href='vscode-notebook-cell:/c%3A/Users/Students/Box/Research/IoT4ag/Project_%20Water%20Stress/Data%20Analysis/Almond%20Orchard/A_Orchard_Data_Analysis/src_data_analysis/ML_algorithms_1.ipynb#X15sZmlsZQ%3D%3D?line=24'>25</a>\u001b[0m pred_rfc \u001b[39m=\u001b[39m best_rfc\u001b[39m.\u001b[39mpredict(X_test)\n\u001b[0;32m     <a href='vscode-notebook-cell:/c%3A/Users/Students/Box/Research/IoT4ag/Project_%20Water%20Stress/Data%20Analysis/Almond%20Orchard/A_Orchard_Data_Analysis/src_data_analysis/ML_algorithms_1.ipynb#X15sZmlsZQ%3D%3D?line=26'>27</a>\u001b[0m \u001b[39m# Get the best features\u001b[39;00m\n\u001b[1;32m---> <a href='vscode-notebook-cell:/c%3A/Users/Students/Box/Research/IoT4ag/Project_%20Water%20Stress/Data%20Analysis/Almond%20Orchard/A_Orchard_Data_Analysis/src_data_analysis/ML_algorithms_1.ipynb#X15sZmlsZQ%3D%3D?line=27'>28</a>\u001b[0m best_features \u001b[39m=\u001b[39m X\u001b[39m.\u001b[39;49mcolumns[best_nn\u001b[39m.\u001b[39mnamed_steps[\u001b[39m'\u001b[39m\u001b[39mselector\u001b[39m\u001b[39m'\u001b[39m]\u001b[39m.\u001b[39msupport_]\n\u001b[0;32m     <a href='vscode-notebook-cell:/c%3A/Users/Students/Box/Research/IoT4ag/Project_%20Water%20Stress/Data%20Analysis/Almond%20Orchard/A_Orchard_Data_Analysis/src_data_analysis/ML_algorithms_1.ipynb#X15sZmlsZQ%3D%3D?line=28'>29</a>\u001b[0m \u001b[39mprint\u001b[39m(\u001b[39m\"\u001b[39m\u001b[39mBest features: \u001b[39m\u001b[39m\"\u001b[39m, best_features)\n\u001b[0;32m     <a href='vscode-notebook-cell:/c%3A/Users/Students/Box/Research/IoT4ag/Project_%20Water%20Stress/Data%20Analysis/Almond%20Orchard/A_Orchard_Data_Analysis/src_data_analysis/ML_algorithms_1.ipynb#X15sZmlsZQ%3D%3D?line=31'>32</a>\u001b[0m \u001b[39m############ Hyperparameter optimization gridSearch ############\u001b[39;00m\n\u001b[0;32m     <a href='vscode-notebook-cell:/c%3A/Users/Students/Box/Research/IoT4ag/Project_%20Water%20Stress/Data%20Analysis/Almond%20Orchard/A_Orchard_Data_Analysis/src_data_analysis/ML_algorithms_1.ipynb#X15sZmlsZQ%3D%3D?line=32'>33</a>\u001b[0m \u001b[39m# rfc = RandomForestClassifier()\u001b[39;00m\n\u001b[0;32m     <a href='vscode-notebook-cell:/c%3A/Users/Students/Box/Research/IoT4ag/Project_%20Water%20Stress/Data%20Analysis/Almond%20Orchard/A_Orchard_Data_Analysis/src_data_analysis/ML_algorithms_1.ipynb#X15sZmlsZQ%3D%3D?line=33'>34</a>\u001b[0m \u001b[39m# param_grid = {\u001b[39;00m\n\u001b[1;32m   (...)\u001b[0m\n\u001b[0;32m     <a href='vscode-notebook-cell:/c%3A/Users/Students/Box/Research/IoT4ag/Project_%20Water%20Stress/Data%20Analysis/Almond%20Orchard/A_Orchard_Data_Analysis/src_data_analysis/ML_algorithms_1.ipynb#X15sZmlsZQ%3D%3D?line=53'>54</a>\u001b[0m \u001b[39m# rfc.fit(X_train, y_train)\u001b[39;00m\n\u001b[0;32m     <a href='vscode-notebook-cell:/c%3A/Users/Students/Box/Research/IoT4ag/Project_%20Water%20Stress/Data%20Analysis/Almond%20Orchard/A_Orchard_Data_Analysis/src_data_analysis/ML_algorithms_1.ipynb#X15sZmlsZQ%3D%3D?line=54'>55</a>\u001b[0m \u001b[39m# pred_rfc = rfc.predict(X_test)\u001b[39;00m\n",
      "\u001b[1;31mAttributeError\u001b[0m: 'numpy.ndarray' object has no attribute 'columns'"
     ]
    }
   ],
   "source": [
    "############ Hyperparameter optimization RandomizedCV and RFECV  ############\n",
    "rf_param_grid = {\n",
    "    'clf__n_estimators': randint(10, 500),\n",
    "    'clf__max_features': ['sqrt', 'log2'],\n",
    "    'clf__max_depth': randint(1, 5),\n",
    "    'clf__criterion': ['gini', 'entropy']\n",
    "}\n",
    "\n",
    "pipe = Pipeline([\n",
    "    ('scaler', StandardScaler()),\n",
    "    # ('selector', RFECV(estimator=RandomForestClassifier(), step=1, cv=5)),\n",
    "    ('selector', RFE(estimator=RandomForestClassifier(), n_features_to_select=num_features_to_select)),\n",
    "    ('clf', RandomForestClassifier())\n",
    "])\n",
    "\n",
    "# Initialize RandomizedSearchCV\n",
    "grid_search_rfc = RandomizedSearchCV(estimator=pipe, param_distributions=rf_param_grid, cv=cv, n_jobs=-1, verbose=2)\n",
    "\n",
    "# Fit to the data\n",
    "grid_search_rfc.fit(X_train, y_train)\n",
    "\n",
    "# Extract best estimator\n",
    "best_rfc = grid_search_rfc.best_estimator_\n",
    "\n",
    "# Predict using best estimator\n",
    "pred_rfc = best_rfc.predict(X_test)\n"
   ]
  },
  {
   "cell_type": "code",
   "execution_count": 509,
   "metadata": {},
   "outputs": [
    {
     "name": "stdout",
     "output_type": "stream",
     "text": [
      "Current available features:  ['Ta' 'cwsi' 'NDVI median' 'GNDVI median' 'OSAVI median' 'LCI median'\n",
      " 'NDRE median']\n",
      "Best features for RandomForest:  ['Ta' 'cwsi' 'NDVI median' 'GNDVI median']\n",
      "Feature ranking for selected features:\n",
      "1. feature Ta (0.604276)\n",
      "2. feature cwsi (0.206796)\n",
      "3. feature GNDVI median (0.105074)\n",
      "4. feature NDVI median (0.083854)\n",
      "\n",
      " Best Parameters for RF: {'clf__criterion': 'gini', 'clf__max_depth': 2, 'clf__max_features': 'log2', 'clf__n_estimators': 180}\n",
      "\n",
      " Random Forest accuracy:  0.8928571428571429\n",
      "              precision    recall  f1-score   support\n",
      "\n",
      "           0       1.00      0.67      0.80         9\n",
      "           1       0.86      1.00      0.93        19\n",
      "\n",
      "    accuracy                           0.89        28\n",
      "   macro avg       0.93      0.83      0.86        28\n",
      "weighted avg       0.91      0.89      0.89        28\n",
      "\n",
      "[[ 6  3]\n",
      " [ 0 19]]\n"
     ]
    }
   ],
   "source": [
    "# Get the best features\n",
    "\n",
    "print(\"Current available features: \",feature_names)\n",
    "rf_support = best_rfc.named_steps['selector'].support_\n",
    "rf_feature = feature_names[rf_support]\n",
    "print(\"Best features for RandomForest: \", rf_feature)\n",
    "\n",
    "# Get feature importances\n",
    "importances = best_rfc.named_steps['clf'].feature_importances_\n",
    "\n",
    "# Get indices of features sorted by their importance\n",
    "indices = np.argsort(importances)[::-1]\n",
    "\n",
    "# Print the feature ranking for selected features\n",
    "print(\"Feature ranking for selected features:\")\n",
    "\n",
    "for f in range(sum(rf_support)):\n",
    "    print(\"%d. feature %s (%f)\" % (f + 1, rf_feature[indices[f]], importances[indices[f]]))\n",
    "\n",
    "print(\"\\n Best Parameters for RF:\",grid_search_rfc.best_params_)\n",
    "\n",
    "\n",
    "############ Hyperparameter optimization gridSearch ############\n",
    "# rfc = RandomForestClassifier()\n",
    "# param_grid = {\n",
    "#     'n_estimators': [10, 15, 25, 50, 100],\n",
    "#     'max_features': ['sqrt', 'log2'],\n",
    "#     'max_depth' : [2,3,4,5],\n",
    "#     'criterion' :['gini', 'entropy']\n",
    "# }\n",
    "\n",
    "# grid_search_rfc = GridSearchCV(estimator = rfc, param_grid = param_grid, \n",
    "#                           cv = cv, n_jobs = -1, verbose = 2)\n",
    "# grid_search_rfc.fit(X_train, y_train)\n",
    "\n",
    "# best_grid = grid_search_rfc.best_estimator_\n",
    "# print(grid_search_rfc.best_params_)\n",
    "\n",
    "# rfc.fit(X_train, y_train)\n",
    "# pred_rfc = rfc.predict(X_test)\n",
    "\n",
    "\n",
    "############ Optimized ############\n",
    "# rfc = RandomForestClassifier(n_estimators=250)\n",
    "# rfc.fit(X_train, y_train)\n",
    "# pred_rfc = rfc.predict(X_test)\n",
    "\n",
    "\n",
    "print('\\n Random Forest accuracy: ',accuracy_score(y_test, pred_rfc))\n",
    "print(classification_report(y_test, pred_rfc))\n",
    "print(confusion_matrix(y_test, pred_rfc))"
   ]
  },
  {
   "cell_type": "code",
   "execution_count": 488,
   "metadata": {},
   "outputs": [
    {
     "name": "stdout",
     "output_type": "stream",
     "text": [
      "SVM accuracy:  0.6785714285714286\n",
      "              precision    recall  f1-score   support\n",
      "\n",
      "           0       0.00      0.00      0.00         9\n",
      "           1       0.68      1.00      0.81        19\n",
      "\n",
      "    accuracy                           0.68        28\n",
      "   macro avg       0.34      0.50      0.40        28\n",
      "weighted avg       0.46      0.68      0.55        28\n",
      "\n",
      "[[ 0  9]\n",
      " [ 0 19]]\n"
     ]
    },
    {
     "name": "stderr",
     "output_type": "stream",
     "text": [
      "c:\\Users\\Students\\AppData\\Local\\Programs\\Python\\Python310\\lib\\site-packages\\sklearn\\metrics\\_classification.py:1327: UndefinedMetricWarning: Precision and F-score are ill-defined and being set to 0.0 in labels with no predicted samples. Use `zero_division` parameter to control this behavior.\n",
      "  _warn_prf(average, modifier, msg_start, len(result))\n",
      "c:\\Users\\Students\\AppData\\Local\\Programs\\Python\\Python310\\lib\\site-packages\\sklearn\\metrics\\_classification.py:1327: UndefinedMetricWarning: Precision and F-score are ill-defined and being set to 0.0 in labels with no predicted samples. Use `zero_division` parameter to control this behavior.\n",
      "  _warn_prf(average, modifier, msg_start, len(result))\n",
      "c:\\Users\\Students\\AppData\\Local\\Programs\\Python\\Python310\\lib\\site-packages\\sklearn\\metrics\\_classification.py:1327: UndefinedMetricWarning: Precision and F-score are ill-defined and being set to 0.0 in labels with no predicted samples. Use `zero_division` parameter to control this behavior.\n",
      "  _warn_prf(average, modifier, msg_start, len(result))\n"
     ]
    }
   ],
   "source": [
    "clf=SVC()\n",
    "clf.fit(X_train,y_train)\n",
    "pred_clf = clf.predict(X_test)\n",
    "print('SVM accuracy: ',accuracy_score(y_test, pred_clf))\n",
    "print(classification_report(y_test, pred_clf))\n",
    "print(confusion_matrix(y_test, pred_clf))"
   ]
  },
  {
   "cell_type": "code",
   "execution_count": 489,
   "metadata": {},
   "outputs": [
    {
     "name": "stdout",
     "output_type": "stream",
     "text": [
      "GaussianNB accuracy:  0.6785714285714286\n",
      "              precision    recall  f1-score   support\n",
      "\n",
      "           0       0.50      0.89      0.64         9\n",
      "           1       0.92      0.58      0.71        19\n",
      "\n",
      "    accuracy                           0.68        28\n",
      "   macro avg       0.71      0.73      0.67        28\n",
      "weighted avg       0.78      0.68      0.69        28\n",
      "\n",
      "[[ 8  1]\n",
      " [ 8 11]]\n"
     ]
    }
   ],
   "source": [
    "gnb= GaussianNB()\n",
    "gnb.fit(X_train,y_train)\n",
    "pred_gnb = gnb.predict(X_test)\n",
    "print('GaussianNB accuracy: ',accuracy_score(y_test, pred_gnb))\n",
    "print(classification_report(y_test, pred_gnb))\n",
    "print(confusion_matrix(y_test, pred_gnb))"
   ]
  },
  {
   "cell_type": "code",
   "execution_count": 490,
   "metadata": {},
   "outputs": [
    {
     "name": "stdout",
     "output_type": "stream",
     "text": [
      "DT accuracy:  0.7857142857142857\n",
      "              precision    recall  f1-score   support\n",
      "\n",
      "           0       0.64      0.78      0.70         9\n",
      "           1       0.88      0.79      0.83        19\n",
      "\n",
      "    accuracy                           0.79        28\n",
      "   macro avg       0.76      0.78      0.77        28\n",
      "weighted avg       0.80      0.79      0.79        28\n",
      "\n",
      "[[ 7  2]\n",
      " [ 4 15]]\n"
     ]
    }
   ],
   "source": [
    "dt= tree.DecisionTreeClassifier()\n",
    "dt.fit(X_train,y_train)\n",
    "pred_dt = dt.predict(X_test)\n",
    "print('DT accuracy: ',accuracy_score(y_test, pred_dt))\n",
    "print(classification_report(y_test, pred_dt))\n",
    "print(confusion_matrix(y_test, pred_dt))"
   ]
  },
  {
   "cell_type": "code",
   "execution_count": 491,
   "metadata": {},
   "outputs": [
    {
     "name": "stdout",
     "output_type": "stream",
     "text": [
      "KNN accuracy:  0.75\n",
      "              precision    recall  f1-score   support\n",
      "\n",
      "           0       0.75      0.33      0.46         9\n",
      "           1       0.75      0.95      0.84        19\n",
      "\n",
      "    accuracy                           0.75        28\n",
      "   macro avg       0.75      0.64      0.65        28\n",
      "weighted avg       0.75      0.75      0.72        28\n",
      "\n",
      "[[ 3  6]\n",
      " [ 1 18]]\n"
     ]
    }
   ],
   "source": [
    "knn= KNeighborsClassifier(n_neighbors=3)\n",
    "knn.fit(X_train,y_train)\n",
    "pred_knn = knn.predict(X_test)\n",
    "print('KNN accuracy: ',accuracy_score(y_test, pred_knn))\n",
    "print(classification_report(y_test, pred_knn))\n",
    "print(confusion_matrix(y_test, pred_knn))"
   ]
  },
  {
   "cell_type": "code",
   "execution_count": 492,
   "metadata": {},
   "outputs": [
    {
     "name": "stdout",
     "output_type": "stream",
     "text": [
      "Neural Network accuracy:  0.8214285714285714\n",
      "              precision    recall  f1-score   support\n",
      "\n",
      "           0       1.00      0.44      0.62         9\n",
      "           1       0.79      1.00      0.88        19\n",
      "\n",
      "    accuracy                           0.82        28\n",
      "   macro avg       0.90      0.72      0.75        28\n",
      "weighted avg       0.86      0.82      0.80        28\n",
      "\n",
      "[[ 4  5]\n",
      " [ 0 19]]\n"
     ]
    }
   ],
   "source": [
    "mlpc= MLPClassifier(hidden_layer_sizes=(15,15),max_iter=2000)\n",
    "mlpc.fit(X_train,y_train)\n",
    "pred_mlpc = mlpc.predict(X_test)\n",
    "print('Neural Network accuracy: ',accuracy_score(y_test, pred_mlpc))\n",
    "print(classification_report(y_test, pred_mlpc))\n",
    "print(confusion_matrix(y_test, pred_mlpc))"
   ]
  },
  {
   "cell_type": "code",
   "execution_count": 493,
   "metadata": {},
   "outputs": [
    {
     "name": "stderr",
     "output_type": "stream",
     "text": [
      "c:\\Users\\Students\\AppData\\Local\\Programs\\Python\\Python310\\lib\\site-packages\\sklearn\\neural_network\\_multilayer_perceptron.py:702: ConvergenceWarning: Stochastic Optimizer: Maximum iterations (2000) reached and the optimization hasn't converged yet.\n",
      "  warnings.warn(\n"
     ]
    }
   ],
   "source": [
    "cval_rf = np.array(cross_val_score(rfc, X, y, cv=cv))\n",
    "cval_svc = np.array(cross_val_score(clf, X, y, cv=cv))\n",
    "cval_gnb = np.array(cross_val_score(gnb, X, y, cv=cv))\n",
    "cval_dt = np.array(cross_val_score(dt, X, y, cv=cv))\n",
    "cval_knn = np.array(cross_val_score(knn, X, y, cv=cv))\n",
    "cval_nn = np.array(cross_val_score(mlpc, X, y, cv=cv))"
   ]
  },
  {
   "cell_type": "code",
   "execution_count": 494,
   "metadata": {},
   "outputs": [
    {
     "data": {
      "text/html": [
       "<div>\n",
       "<style scoped>\n",
       "    .dataframe tbody tr th:only-of-type {\n",
       "        vertical-align: middle;\n",
       "    }\n",
       "\n",
       "    .dataframe tbody tr th {\n",
       "        vertical-align: top;\n",
       "    }\n",
       "\n",
       "    .dataframe thead th {\n",
       "        text-align: right;\n",
       "    }\n",
       "</style>\n",
       "<table border=\"1\" class=\"dataframe\">\n",
       "  <thead>\n",
       "    <tr style=\"text-align: right;\">\n",
       "      <th></th>\n",
       "      <th>CV Mean</th>\n",
       "      <th>CV Std</th>\n",
       "    </tr>\n",
       "    <tr>\n",
       "      <th>Model</th>\n",
       "      <th></th>\n",
       "      <th></th>\n",
       "    </tr>\n",
       "  </thead>\n",
       "  <tbody>\n",
       "    <tr>\n",
       "      <th>RandomF</th>\n",
       "      <td>0.87</td>\n",
       "      <td>0.09</td>\n",
       "    </tr>\n",
       "    <tr>\n",
       "      <th>SVM</th>\n",
       "      <td>0.89</td>\n",
       "      <td>0.11</td>\n",
       "    </tr>\n",
       "    <tr>\n",
       "      <th>GaussianNB</th>\n",
       "      <td>0.64</td>\n",
       "      <td>0.20</td>\n",
       "    </tr>\n",
       "    <tr>\n",
       "      <th>DT</th>\n",
       "      <td>0.79</td>\n",
       "      <td>0.19</td>\n",
       "    </tr>\n",
       "    <tr>\n",
       "      <th>KNN</th>\n",
       "      <td>0.71</td>\n",
       "      <td>0.23</td>\n",
       "    </tr>\n",
       "    <tr>\n",
       "      <th>NN</th>\n",
       "      <td>0.81</td>\n",
       "      <td>0.19</td>\n",
       "    </tr>\n",
       "  </tbody>\n",
       "</table>\n",
       "</div>"
      ],
      "text/plain": [
       "            CV Mean  CV Std\n",
       "Model                      \n",
       "RandomF        0.87    0.09\n",
       "SVM            0.89    0.11\n",
       "GaussianNB     0.64    0.20\n",
       "DT             0.79    0.19\n",
       "KNN            0.71    0.23\n",
       "NN             0.81    0.19"
      ]
     },
     "execution_count": 494,
     "metadata": {},
     "output_type": "execute_result"
    }
   ],
   "source": [
    "model_stats = pd.DataFrame({\n",
    "    'Model': ['RandomF', 'SVM', 'GaussianNB', 'DT', 'KNN', 'NN'],\n",
    "    'CV Mean': [cval_rf.mean(), cval_svc.mean(), cval_gnb.mean(), cval_dt.mean(), cval_knn.mean(), cval_nn.mean()],\n",
    "    'CV Std': [cval_rf.std(), cval_svc.std(), cval_gnb.std(), cval_dt.std(), cval_knn.std(), cval_nn.std()]\n",
    "})\n",
    "\n",
    "model_stats.set_index('Model', inplace=True)\n",
    "model_stats = model_stats.round(2)\n",
    "model_stats"
   ]
  },
  {
   "cell_type": "code",
   "execution_count": 495,
   "metadata": {},
   "outputs": [
    {
     "data": {
      "image/png": "[encoded data removed]",
      "text/plain": [
       "<Figure size 640x480 with 1 Axes>"
      ]
     },
     "metadata": {},
     "output_type": "display_data"
    }
   ],
   "source": [
    "data = [cval_rf,cval_svc,cval_gnb,cval_dt,cval_knn,cval_nn]\n",
    "plt.boxplot(data)\n",
    "plt.xticks([1, 2, 3, 4, 5, 6],['RandomForest','SVM','GaussianNB','DT','KNN','NN'])\n",
    "plt.ylabel('Accuracy score')\n",
    "plt.title('Accuracy score with cross validation = ' + str(cv))\n",
    "plt.ylim(bottom=0)\n",
    "plt.show()"
   ]
  },
  {
   "cell_type": "code",
   "execution_count": 496,
   "metadata": {},
   "outputs": [
    {
     "data": {
      "image/png": "[encoded data removed]",
      "text/plain": [
       "<Figure size 640x480 with 1 Axes>"
      ]
     },
     "metadata": {},
     "output_type": "display_data"
    }
   ],
   "source": [
    "# Prepare the data\n",
    "models = ['RandomF', 'SVM', 'GaussianNB', 'DT', 'KNN', 'NN']\n",
    "means = [cval_rf.mean(), cval_svc.mean(), cval_gnb.mean(), cval_dt.mean(), cval_knn.mean(), cval_nn.mean()]\n",
    "stds = [cval_rf.std(), cval_svc.std(), cval_gnb.std(), cval_dt.std(), cval_knn.std(), cval_nn.std()]\n",
    "all_values = [cval_rf, cval_svc, cval_gnb, cval_dt, cval_knn, cval_nn]\n",
    "\n",
    "# Create index for each model\n",
    "index = np.arange(len(models))\n",
    "\n",
    "# Create scatter plot for individual scores\n",
    "for i, values in enumerate(all_values):\n",
    "    plt.scatter([i]*len(values), values, alpha=0.4, color='gray')\n",
    "\n",
    "# Create scatter plot for mean scores with error bars\n",
    "plt.errorbar(index, means, yerr=stds, fmt='s', color='k', capsize=5)\n",
    "\n",
    "# Label the x-axis with model names\n",
    "plt.xticks(index, models)\n",
    "\n",
    "plt.ylabel('Accuracy score')\n",
    "plt.title('Mean accuracy score with cross validation = ' + str(cv))\n",
    "plt.ylim(bottom=0)\n",
    "plt.show()"
   ]
  },
  {
   "attachments": {},
   "cell_type": "markdown",
   "metadata": {},
   "source": [
    "Optimized Hyperparameters\n"
   ]
  },
  {
   "attachments": {},
   "cell_type": "markdown",
   "metadata": {},
   "source": []
  }
 ],
 "metadata": {
  "kernelspec": {
   "display_name": "Python 3",
   "language": "python",
   "name": "python3"
  },
  "language_info": {
   "codemirror_mode": {
    "name": "ipython",
    "version": 3
   },
   "file_extension": ".py",
   "mimetype": "text/x-python",
   "name": "python",
   "nbconvert_exporter": "python",
   "pygments_lexer": "ipython3",
   "version": "3.10.5"
  },
  "orig_nbformat": 4
 },
 "nbformat": 4,
 "nbformat_minor": 2
}
